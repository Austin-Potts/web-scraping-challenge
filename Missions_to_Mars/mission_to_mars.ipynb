{
 "cells": [
  {
   "cell_type": "markdown",
   "metadata": {},
   "source": [
    "# Mission to Mars\n"
   ]
  },
  {
   "cell_type": "markdown",
   "metadata": {},
   "source": [
    "Run this entire notebook top to bottom and you will generate all of the material necessary to build an up to date mars information website. This notebook will scrape the latest news stories about mars, weather info, images, and and information table which can all be used in an external flask app to make a webpage.\n",
    "\n",
    "Important!\n",
    "-------------------------------------------------------------------------------------\n",
    "To use this notebook you have to have Firefox installed, otherwise splinter will not work. "
   ]
  },
  {
   "cell_type": "code",
   "execution_count": 1,
   "metadata": {},
   "outputs": [],
   "source": [
    "# importing the libraries and dependencies necessary\n",
    "from bs4 import BeautifulSoup as bs \n",
    "import requests\n",
    "from splinter import Browser\n",
    "import pandas as pd\n",
    "import time"
   ]
  },
  {
   "cell_type": "code",
   "execution_count": 2,
   "metadata": {},
   "outputs": [],
   "source": [
    "#Grab title and paragraph from the first post on the mars news page\n",
    "news_url=\"https://mars.nasa.gov/news/?page=0&per_page=40&order=publish_date+desc%2Ccreated_at+desc&search=&category=19%2C165%2C184%2C204&blank_scope=Latest\"\n",
    "\n",
    "# Make a GET request to fetch the raw HTML content\n",
    "news_html_content = requests.get(news_url).text\n",
    "\n",
    "# Parse the html content & print the parsed data of html\n",
    "soup = bs(news_html_content, \"lxml\")\n",
    "#print(soup.prettify()) "
   ]
  },
  {
   "cell_type": "code",
   "execution_count": 3,
   "metadata": {},
   "outputs": [
    {
     "name": "stdout",
     "output_type": "stream",
     "text": [
      "Title: Virginia Middle School Student Earns Honor of Naming NASA's Next Mars Rover \n",
      " Body: NASA chose a seventh-grader from Virginia as winner of the agency's \"Name the Rover\" essay contest. Alexander Mather's entry for \"Perseverance\" was voted tops among 28,000 entries.\n"
     ]
    }
   ],
   "source": [
    "#using beautiful soup to grab the first title of the content on the news page\n",
    "articles = soup.find(\"div\", attrs={\"class\": \"content_title\"})\n",
    "news_title = articles.find_all(\"a\")\n",
    "news_title = news_title[0].text.strip()\n",
    "\n",
    "#grabbing the intro paragraph associated with the title\n",
    "body_text = soup.find(\"div\", attrs={\"class\":\"rollover_description_inner\"})\n",
    "news_p = body_text.text.replace(\"\\n\",\"\").strip()\n",
    "print(f\"Title: {news_title} \\n Body: {news_p}\")"
   ]
  },
  {
   "cell_type": "code",
   "execution_count": 4,
   "metadata": {},
   "outputs": [
    {
     "name": "stdout",
     "output_type": "stream",
     "text": [
      "https://www.jpl.nasa.gov/spaceimages/images/largesize/PIA17978_hires.jpg\n"
     ]
    }
   ],
   "source": [
    "#creates a browser controlled by splinter which doesnt open because headless is true\n",
    "browser = Browser(\"firefox\", executable_path = \"/Users/Austin Potts/Downloads/geckodriver\", headless=True)\n",
    "image_url = 'https://www.jpl.nasa.gov/spaceimages/?search=&category=Mar'\n",
    "browser.visit(image_url)\n",
    "\n",
    "#clicks the link we need from the page to pull the image from\n",
    "target = '#full_image'\n",
    "browser.find_by_css(target).click()\n",
    "\n",
    "#clicking more info button to get path to full jpeg\n",
    "target_2 = '#fancybox-lock > div > div.fancybox-title.fancybox-title-outside-wrap > div > div.buttons > a.button'\n",
    "browser.find_by_css(target_2).click()\n",
    "\n",
    "#has to be used after splinter or it breaks the code\n",
    "html = browser.html\n",
    "soup = bs(html, 'lxml')\n",
    "\n",
    "#this clicks the button to open up the page that displays only the image with the resolution we need. \n",
    "featured_image_url = soup.find('figure', class_='lede').a['href']\n",
    "\n",
    "#places the specific image tag into the url string to make the link\n",
    "featured_image_url = (f\"https://www.jpl.nasa.gov{featured_image_url}\")\n",
    "\n",
    "#closes the browser after grabbing the necessary image url we need\n",
    "browser.quit()\n",
    "\n",
    "#printing image to make sure this works\n",
    "print(featured_image_url)\n"
   ]
  },
  {
   "cell_type": "code",
   "execution_count": 5,
   "metadata": {},
   "outputs": [],
   "source": [
    "#url to twitter page for mars weather\n",
    "tweet_url = \"https://twitter.com/marswxreport?lang=en\"\n",
    "tweet_html_content = requests.get(tweet_url).text\n",
    "soup = bs(tweet_html_content, \"lxml\")\n",
    "\n",
    "#printing out html to find tags we need to search by\n",
    "#print(soup.prettify()) "
   ]
  },
  {
   "cell_type": "code",
   "execution_count": 6,
   "metadata": {},
   "outputs": [
    {
     "name": "stdout",
     "output_type": "stream",
     "text": [
      "InSight sol 455 (2020-03-08) low -95.4ºC (-139.8ºF) high -13.0ºC (8.5ºF)\n",
      "winds from the SSE at 6.0 m/s (13.5 mph) gusting to 20.7 m/s (46.2 mph)\n",
      "pressure at 6.40 hPa: pic.twitter.com/HrRcPTpSEQ\n"
     ]
    }
   ],
   "source": [
    "#<div class=\"js-tweet-text-container\"> --> <p> has tweet body\n",
    "#list of tweets on page\n",
    "tweet_list = soup.find_all('div', class_=\"js-tweet-text-container\")\n",
    "\n",
    "#empty list to hold tweet we are going to keep, used to strip useless content from string\n",
    "holds_tweet = []\n",
    "\n",
    "# Loop that scans every tweet and searches specifically for those that have weather info\n",
    "for tweets in tweet_list: \n",
    "    tweet_body = tweets.find('p').text\n",
    "    if 'InSight' and 'sol' in tweet_body:\n",
    "        holds_tweet.append(tweet_body)\n",
    "        #break statement to only print the first weather tweet found\n",
    "        break\n",
    "    else: \n",
    "        #if not weather related skip it and try again\n",
    "        pass\n",
    "    \n",
    "#cleaned up tweet removes unncessary link to twitter image included in string, :-26 removes the last 26 characters which is the length of the img url\n",
    "#after reviewing several links they all appear to work with the value of -26\n",
    "mars_weather = ([holds_tweet[0]][0][:-26])\n",
    "tweet_img_link = ([holds_tweet[0]][0][-26:])\n",
    "print(f\"{mars_weather}: {tweet_img_link}\")"
   ]
  },
  {
   "cell_type": "code",
   "execution_count": 7,
   "metadata": {},
   "outputs": [
    {
     "data": {
      "text/html": [
       "<div>\n",
       "<style scoped>\n",
       "    .dataframe tbody tr th:only-of-type {\n",
       "        vertical-align: middle;\n",
       "    }\n",
       "\n",
       "    .dataframe tbody tr th {\n",
       "        vertical-align: top;\n",
       "    }\n",
       "\n",
       "    .dataframe thead th {\n",
       "        text-align: right;\n",
       "    }\n",
       "</style>\n",
       "<table border=\"1\" class=\"dataframe\">\n",
       "  <thead>\n",
       "    <tr style=\"text-align: right;\">\n",
       "      <th></th>\n",
       "      <th>Value</th>\n",
       "    </tr>\n",
       "    <tr>\n",
       "      <th>Description</th>\n",
       "      <th></th>\n",
       "    </tr>\n",
       "  </thead>\n",
       "  <tbody>\n",
       "    <tr>\n",
       "      <td>Equatorial Diameter:</td>\n",
       "      <td>6,792 km</td>\n",
       "    </tr>\n",
       "    <tr>\n",
       "      <td>Polar Diameter:</td>\n",
       "      <td>6,752 km</td>\n",
       "    </tr>\n",
       "    <tr>\n",
       "      <td>Mass:</td>\n",
       "      <td>6.39 × 10^23 kg (0.11 Earths)</td>\n",
       "    </tr>\n",
       "    <tr>\n",
       "      <td>Moons:</td>\n",
       "      <td>2 (Phobos &amp; Deimos)</td>\n",
       "    </tr>\n",
       "    <tr>\n",
       "      <td>Orbit Distance:</td>\n",
       "      <td>227,943,824 km (1.38 AU)</td>\n",
       "    </tr>\n",
       "    <tr>\n",
       "      <td>Orbit Period:</td>\n",
       "      <td>687 days (1.9 years)</td>\n",
       "    </tr>\n",
       "    <tr>\n",
       "      <td>Surface Temperature:</td>\n",
       "      <td>-87 to -5 °C</td>\n",
       "    </tr>\n",
       "    <tr>\n",
       "      <td>First Record:</td>\n",
       "      <td>2nd millennium BC</td>\n",
       "    </tr>\n",
       "    <tr>\n",
       "      <td>Recorded By:</td>\n",
       "      <td>Egyptian astronomers</td>\n",
       "    </tr>\n",
       "  </tbody>\n",
       "</table>\n",
       "</div>"
      ],
      "text/plain": [
       "                                              Value\n",
       "Description                                        \n",
       "Equatorial Diameter:                       6,792 km\n",
       "Polar Diameter:                            6,752 km\n",
       "Mass:                 6.39 × 10^23 kg (0.11 Earths)\n",
       "Moons:                          2 (Phobos & Deimos)\n",
       "Orbit Distance:            227,943,824 km (1.38 AU)\n",
       "Orbit Period:                  687 days (1.9 years)\n",
       "Surface Temperature:                   -87 to -5 °C\n",
       "First Record:                     2nd millennium BC\n",
       "Recorded By:                   Egyptian astronomers"
      ]
     },
     "execution_count": 7,
     "metadata": {},
     "output_type": "execute_result"
    }
   ],
   "source": [
    "# Website that the mars facts table will be pulled from in the front end application\n",
    "facts_url = \"https://space-facts.com/mars/\"\n",
    "facts_html_content = requests.get(facts_url).text\n",
    "\n",
    "# Use Pandas to scrape the tables found in the url, the first table is the one we need\n",
    "raw_table_data = pd.read_html(facts_url)\n",
    "mars_facts = raw_table_data[0]\n",
    "\n",
    "# Add names to the columns so they are not 0 and 1\n",
    "mars_facts.columns = ['Description','Value']\n",
    "\n",
    "# Reset Index to be description so that the table reads in correctly and makes sense\n",
    "mars_facts.set_index('Description', inplace=True)\n",
    "mars_facts"
   ]
  },
  {
   "cell_type": "code",
   "execution_count": 8,
   "metadata": {},
   "outputs": [],
   "source": [
    "#exporting table data to html for use in the flask app.\n",
    "mars_facts = mars_facts.to_html(classes = \"table table-responsive\")"
   ]
  },
  {
   "cell_type": "code",
   "execution_count": 9,
   "metadata": {},
   "outputs": [
    {
     "name": "stdout",
     "output_type": "stream",
     "text": [
      "[{'title': 'Cerberus Hemisphere ', 'img_url': 'http://astropedia.astrogeology.usgs.gov/download/Mars/Viking/cerberus_enhanced.tif/full.jpg'}, {'title': 'Schiaparelli Hemisphere ', 'img_url': 'http://astropedia.astrogeology.usgs.gov/download/Mars/Viking/schiaparelli_enhanced.tif/full.jpg'}, {'title': 'Syrtis Major Hemisphere ', 'img_url': 'http://astropedia.astrogeology.usgs.gov/download/Mars/Viking/syrtis_major_enhanced.tif/full.jpg'}, {'title': 'Valles Marineris Hemisphere ', 'img_url': 'http://astropedia.astrogeology.usgs.gov/download/Mars/Viking/valles_marineris_enhanced.tif/full.jpg'}]\n"
     ]
    }
   ],
   "source": [
    "#these lines of code will open a new firefox window and allow for navigation to the url for the images we need\n",
    "browser = Browser(\"firefox\", executable_path = \"/Users/Austin Potts/Downloads/geckodriver\", headless=True)\n",
    "images_url = 'https://astrogeology.usgs.gov/search/results?q=hemisphere+enhanced&k1=target&v1=Mars'\n",
    "browser.visit(images_url)\n",
    "soup = bs(browser.html, 'lxml')\n",
    "\n",
    "#create empty lists which will be appended by the for loop\n",
    "titles = []\n",
    "image_urls = []\n",
    "\n",
    "#finding div that holds all 4 images and then isolating the images\n",
    "items = soup.find_all('div', class_ = 'item')\n",
    "                  \n",
    "#for loop that grabs the title and images url from the html elemnts in 'items'    \n",
    "for i in items:\n",
    "    #grabbing the title from the heading 3 and removing \"enhanced\" from the string\n",
    "    title = i.find('h3').text\n",
    "    title = title.replace(\"Enhanced\", \"\")\n",
    "    titles.append(title)\n",
    "    #finding the url to the specific images that we need and then opening a new broswer to those links to get the url for the img\n",
    "    finish_line = i.find('a')['href']\n",
    "    #finish_line = /search/map/Mars/Viking/cerberus_enhanced, website url is https://astrogeology.usgs.gov\n",
    "    new_link = f'https://astrogeology.usgs.gov{finish_line}'\n",
    "    #re-initiang browser because we moved to a new page that has to be parsed for its html\n",
    "    browser.visit(new_link)\n",
    "    soup = bs(browser.html, 'lxml')\n",
    "    #finding the image div and copying the href from it, and adding to the list image_urls\n",
    "    pic = soup.find('div', class_='downloads')\n",
    "    image_url = pic.find('a')['href']\n",
    "    image_urls.append(image_url)\n",
    "\n",
    "browser.quit()\n",
    "#Creates the final list of dictionaries by zipping together the 2 lists that were appended in the for loop.\n",
    "hemisphere_image_urls = []\n",
    "for title, url in zip(titles, image_urls):\n",
    "    hemisphere_image_urls.append({\"title\": title, \"img_url\": url})\n",
    "print(hemisphere_image_urls)"
   ]
  },
  {
   "cell_type": "code",
   "execution_count": 10,
   "metadata": {},
   "outputs": [
    {
     "name": "stdout",
     "output_type": "stream",
     "text": [
      "{'news_title': \"Virginia Middle School Student Earns Honor of Naming NASA's Next Mars Rover\", 'news_p': 'NASA chose a seventh-grader from Virginia as winner of the agency\\'s \"Name the Rover\" essay contest. Alexander Mather\\'s entry for \"Perseverance\" was voted tops among 28,000 entries.', 'featured_image_url': 'https://www.jpl.nasa.gov/spaceimages/images/largesize/PIA17978_hires.jpg', 'mars_weather': 'InSight sol 455 (2020-03-08) low -95.4ºC (-139.8ºF) high -13.0ºC (8.5ºF)\\nwinds from the SSE at 6.0 m/s (13.5 mph) gusting to 20.7 m/s (46.2 mph)\\npressure at 6.40 hPa', 'mars_facts':                                               Value\n",
      "Description                                        \n",
      "Equatorial Diameter:                       6,792 km\n",
      "Polar Diameter:                            6,752 km\n",
      "Mass:                 6.39 × 10^23 kg (0.11 Earths)\n",
      "Moons:                          2 (Phobos & Deimos)\n",
      "Orbit Distance:            227,943,824 km (1.38 AU)\n",
      "Orbit Period:                  687 days (1.9 years)\n",
      "Surface Temperature:                   -87 to -5 °C\n",
      "First Record:                     2nd millennium BC\n",
      "Recorded By:                   Egyptian astronomers, 'hemisphere_image_urls': [{'title': 'Cerberus Hemisphere ', 'img_url': 'http://astropedia.astrogeology.usgs.gov/download/Mars/Viking/cerberus_enhanced.tif/full.jpg'}, {'title': 'Schiaparelli Hemisphere ', 'img_url': 'http://astropedia.astrogeology.usgs.gov/download/Mars/Viking/schiaparelli_enhanced.tif/full.jpg'}, {'title': 'Syrtis Major Hemisphere ', 'img_url': 'http://astropedia.astrogeology.usgs.gov/download/Mars/Viking/syrtis_major_enhanced.tif/full.jpg'}, {'title': 'Valles Marineris Hemisphere ', 'img_url': 'http://astropedia.astrogeology.usgs.gov/download/Mars/Viking/valles_marineris_enhanced.tif/full.jpg'}]}\n"
     ]
    }
   ],
   "source": [
    "mars_data = {\"news_title\": news_title, \"news_p\": news_p, \"featured_image_url\": featured_image_url, \"mars_weather\": mars_weather, \"mars_facts\": mars_facts, \"hemisphere_image_urls\": hemisphere_image_urls}\n",
    "print(mars_data)"
   ]
  },
  {
   "cell_type": "code",
   "execution_count": 11,
   "metadata": {},
   "outputs": [],
   "source": [
    "#This loop has to be run after running the above cell or it errors out \n",
    "#this loop clicks on each of the images in the url sequentially, clicks through the pages to the full jpeg and then stores it in a list\n",
    "#the loop also closes the browser windows when it finishes. \n",
    "#for i in targets:\n",
    "#    #clicks the link we need from the page to pull the image from\n",
    "#    browser.find_by_xpath(i).click()\n",
    "#    #clicking more info button to get path to full jpeg\n",
    "#    target_2 = \"/html/body/div[1]/div[1]/div[2]/div/ul/li[1]/a\"\n",
    "#    browser.find_by_xpath(target_2).click()\n",
    "#    #grabs the image url so that this image can be viewed by url only\n",
    "#    img_url = browser.find_by_tag('img')[5]['src']\n",
    "#    mars_image_urls.append(img_url)\n",
    "#    ##closes the browser after grabbing the necessary image url we need\n",
    "#    browser.visit(images_url)\n",
    "#   \n",
    "#browser.quit()\n",
    "#\n",
    "##titles = [\"Cerberus Hemisphere\",  \"Schiaparelli Hemisphere\", \"Syrtis Major Hemisphere\", \"Valles Marineris Hemisphere\"]\n",
    "#hemisphere_image_urls = []\n",
    "#for title, url in zip(titles, mars_image_urls):\n",
    "#    hemisphere_image_urls.append({\"title\": title, \"img_url\": url})"
   ]
  }
 ],
 "metadata": {
  "kernelspec": {
   "display_name": "Python 3",
   "language": "python",
   "name": "python3"
  },
  "language_info": {
   "codemirror_mode": {
    "name": "ipython",
    "version": 3
   },
   "file_extension": ".py",
   "mimetype": "text/x-python",
   "name": "python",
   "nbconvert_exporter": "python",
   "pygments_lexer": "ipython3",
   "version": "3.7.4"
  }
 },
 "nbformat": 4,
 "nbformat_minor": 2
}
